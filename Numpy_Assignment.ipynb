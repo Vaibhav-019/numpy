{
  "nbformat": 4,
  "nbformat_minor": 0,
  "metadata": {
    "colab": {
      "provenance": []
    },
    "kernelspec": {
      "name": "python3",
      "display_name": "Python 3"
    },
    "language_info": {
      "name": "python"
    }
  },
  "cells": [
    {
      "cell_type": "code",
      "execution_count": 1,
      "metadata": {
        "colab": {
          "base_uri": "https://localhost:8080/"
        },
        "id": "1Dvfh_-GEjDQ",
        "outputId": "f87d2500-52e4-4dc5-f685-e80ae6b717a9"
      },
      "outputs": [
        {
          "output_type": "stream",
          "name": "stdout",
          "text": [
            "int64\n"
          ]
        }
      ],
      "source": [
        "# Q.01] Create a numpy array 'arr' of integers from 0 to 5 and print its datatypes ?\n",
        "\n",
        "import numpy as np\n",
        "\n",
        "arr = np.array([0,1,2,3,4,5])\n",
        "\n",
        "print(arr.dtype)"
      ]
    },
    {
      "cell_type": "code",
      "source": [
        "# Q.02] Given a numpy array 'arr', check if its data type is float 64 ?\n",
        "''' arr = np.array([1.5,2.6,3.7])'''\n",
        "\n",
        "arr = np.array([1.5,2.6,3.7])\n",
        "\n",
        "is_float = np.dtype(arr.dtype) == np.dtype('float64')\n",
        "\n",
        "print(\"is data type float64 :\",is_float)"
      ],
      "metadata": {
        "colab": {
          "base_uri": "https://localhost:8080/"
        },
        "id": "IZHvuVujFBgI",
        "outputId": "1b93d1ef-1127-4bdf-8e84-7af14077ee49"
      },
      "execution_count": 2,
      "outputs": [
        {
          "output_type": "stream",
          "name": "stdout",
          "text": [
            "is data type float64 : True\n"
          ]
        }
      ]
    },
    {
      "cell_type": "code",
      "source": [
        "# Q.03] Create a numpy array 'arr' with a datatype of complex128 containing the three complex numbers ?\n",
        "\n",
        "arr = np.array([1+2j,3+4j,5+6j])\n",
        "print(arr.dtype)\n",
        "\n",
        "print(arr)"
      ],
      "metadata": {
        "colab": {
          "base_uri": "https://localhost:8080/"
        },
        "id": "2eRPi2jiGhYQ",
        "outputId": "c13d7aeb-16b4-4c02-f352-1a5b889dd125"
      },
      "execution_count": 3,
      "outputs": [
        {
          "output_type": "stream",
          "name": "stdout",
          "text": [
            "complex128\n",
            "[1.+2.j 3.+4.j 5.+6.j]\n"
          ]
        }
      ]
    },
    {
      "cell_type": "code",
      "source": [
        "# Q.04] Convert an existing numpy array 'arr' of integers to float 32 data type ?\n",
        "\n",
        "arr = np.array([1,2,3,4,5])\n",
        "\n",
        "arr_float32 = arr.astype(np.float32)\n",
        "\n",
        "print(arr_float32)\n",
        "print(arr_float32.dtype)"
      ],
      "metadata": {
        "colab": {
          "base_uri": "https://localhost:8080/"
        },
        "id": "1ZjQZ2FFJVPH",
        "outputId": "5eb0fb9f-87aa-4aa1-ec82-810e0884cfa4"
      },
      "execution_count": 4,
      "outputs": [
        {
          "output_type": "stream",
          "name": "stdout",
          "text": [
            "[1. 2. 3. 4. 5.]\n",
            "float32\n"
          ]
        }
      ]
    },
    {
      "cell_type": "code",
      "source": [
        "# Q.05] Given a numpy array 'arr' with float64 data type, convert it to float32 to reduce decimal precison ?\n",
        "\n",
        "arr = np.array([1.5,2.6,3.7])\n",
        "\n",
        "arr_float32 = arr.astype(np.float32)\n",
        "\n",
        "print(arr_float32)\n",
        "print(arr_float32.dtype)\n",
        "\n"
      ],
      "metadata": {
        "colab": {
          "base_uri": "https://localhost:8080/"
        },
        "id": "Gfa4DaV8Jo1b",
        "outputId": "5249b6f2-6de7-47c8-8dbf-13752f4e088f"
      },
      "execution_count": 5,
      "outputs": [
        {
          "output_type": "stream",
          "name": "stdout",
          "text": [
            "[1.5 2.6 3.7]\n",
            "float32\n"
          ]
        }
      ]
    },
    {
      "cell_type": "code",
      "source": [
        "# Q.06] Write a function array_attributes that takes a numpy array as input and returns its shape, size and data type ?\n",
        "\n",
        "def array_attributes(arr):\n",
        "  shape = arr.shape\n",
        "  size = arr.size\n",
        "  dtype = arr.dtype\n",
        "  return shape, size, dtype\n",
        "\n",
        "arr = np.array([[1,2,3], [4,5,6]])\n",
        "result = array_attributes(arr)\n",
        "print(result)"
      ],
      "metadata": {
        "colab": {
          "base_uri": "https://localhost:8080/"
        },
        "id": "MK2zSB7hKa_y",
        "outputId": "c9abe04c-d8f4-43fe-8241-716c38112126"
      },
      "execution_count": 6,
      "outputs": [
        {
          "output_type": "stream",
          "name": "stdout",
          "text": [
            "((2, 3), 6, dtype('int64'))\n"
          ]
        }
      ]
    },
    {
      "cell_type": "code",
      "source": [
        "# Q.07] Create a function array dimension that takes a numpy array as input and returns its dimensionality ?\n",
        "\n",
        "def array_dimension(arr):\n",
        "  dimension = arr.ndim\n",
        "  return dimension\n",
        "\n",
        "arr = np.array([[1,2,3], [4,5,6]])\n",
        "result = array_dimension(arr)\n",
        "print(\"ndim :\",result)"
      ],
      "metadata": {
        "colab": {
          "base_uri": "https://localhost:8080/"
        },
        "id": "-Q9wmUCjMosD",
        "outputId": "025dee27-cbad-449b-b69d-8f8f9ef5a10e"
      },
      "execution_count": 7,
      "outputs": [
        {
          "output_type": "stream",
          "name": "stdout",
          "text": [
            "ndim : 2\n"
          ]
        }
      ]
    },
    {
      "cell_type": "code",
      "source": [
        "# Q.08] design a function item_size_info that takes a numpy array as input and returns the item size and the total size in byts ?\n",
        "\n",
        "def item_size_info(arr):\n",
        "  item_size = arr.itemsize\n",
        "  total_size = arr.nbytes\n",
        "  return item_size, total_size\n",
        "\n",
        "arr = np.array([[1, 2, 3], [4, 5, 6]])  # 4 bytes per element\n",
        "result = item_size_info(arr)\n",
        "print(result)\n"
      ],
      "metadata": {
        "colab": {
          "base_uri": "https://localhost:8080/"
        },
        "id": "4shs0YaiNiKp",
        "outputId": "d57e431d-496f-43f5-ac7f-2c057f5be4ea"
      },
      "execution_count": 8,
      "outputs": [
        {
          "output_type": "stream",
          "name": "stdout",
          "text": [
            "(8, 48)\n"
          ]
        }
      ]
    },
    {
      "cell_type": "code",
      "source": [
        "# Q.09] Create a function array_strides that takes a numpy as input and returns the strides of the array ?\n",
        "\n",
        "def array_strides(arr):\n",
        "   return arr.strides\n",
        "\n",
        "arr = np.array([[1,2,3], [4,5,6]])\n",
        "result = array_strides(arr)\n",
        "print(result)"
      ],
      "metadata": {
        "colab": {
          "base_uri": "https://localhost:8080/"
        },
        "id": "-yN0iGjBQX0J",
        "outputId": "334cfd40-d41a-43e7-b0ca-c4a9d4c84097"
      },
      "execution_count": 9,
      "outputs": [
        {
          "output_type": "stream",
          "name": "stdout",
          "text": [
            "(24, 8)\n"
          ]
        }
      ]
    },
    {
      "cell_type": "code",
      "source": [
        "# Q.10] Design a function shape_stride_relationship that takes a numpy array as input and returns the shape and strides of the array ?\n",
        "\n",
        "def shape_stride_relationship(arr):\n",
        "\n",
        "  shape = arr.shape\n",
        "  strides = arr.strides\n",
        "  return shape, strides\n",
        "\n",
        "arr = np.array([[1,2,3], [4,5,6]])\n",
        "result = shape_stride_relationship(arr)\n",
        "print(result)\n",
        "\n"
      ],
      "metadata": {
        "colab": {
          "base_uri": "https://localhost:8080/"
        },
        "id": "eBY5HOJMRd5T",
        "outputId": "80d7249e-8bb7-4fb6-c9e5-9dcb7f980997"
      },
      "execution_count": 10,
      "outputs": [
        {
          "output_type": "stream",
          "name": "stdout",
          "text": [
            "((2, 3), (24, 8))\n"
          ]
        }
      ]
    },
    {
      "cell_type": "code",
      "source": [
        "# Q.11] Create a function create_zeros_array that takes an integer 'n' as input and returns a numpy array of zeros with 'n' elements ?\n",
        "\n",
        "def create_zeros_array(n):\n",
        "  zeros_array = np.zeros(n)\n",
        "  return zeros_array\n",
        "\n",
        "result = create_zeros_array(5)\n",
        "print(result)"
      ],
      "metadata": {
        "colab": {
          "base_uri": "https://localhost:8080/"
        },
        "id": "mb3UhkQlSlnR",
        "outputId": "53e839a7-4bbf-4766-ab2a-71ff20d8af05"
      },
      "execution_count": 11,
      "outputs": [
        {
          "output_type": "stream",
          "name": "stdout",
          "text": [
            "[0. 0. 0. 0. 0.]\n"
          ]
        }
      ]
    },
    {
      "cell_type": "code",
      "source": [
        "# Q.12] write a function 'create_ones_matrix' that takes integers 'rows' and 'cols' as inputs and generates a 2D numpy array filled with ones of size 'rows * cols' ?\n",
        "\n",
        "def create_ones_matrix(rows, cols):\n",
        "  ones_matrix = np.ones((rows, cols))\n",
        "  return ones_matrix\n",
        "\n",
        "result = create_ones_matrix(3,4)\n",
        "print(result)"
      ],
      "metadata": {
        "colab": {
          "base_uri": "https://localhost:8080/"
        },
        "id": "MCmk1PX5TZoU",
        "outputId": "d0b4fd62-f8cd-44c9-b2a5-cc875b65ab90"
      },
      "execution_count": 12,
      "outputs": [
        {
          "output_type": "stream",
          "name": "stdout",
          "text": [
            "[[1. 1. 1. 1.]\n",
            " [1. 1. 1. 1.]\n",
            " [1. 1. 1. 1.]]\n"
          ]
        }
      ]
    },
    {
      "cell_type": "code",
      "source": [
        "# Q.13] Write a funnction 'generate_range_array' that takes three integers start, stop and step as arguments and creates a numpy array with a range starting from 'start' ending at stop (exculsive), and with the specified step ?\n",
        "\n",
        "def generate_range_array(start, stop, step):\n",
        "\n",
        "  return np.arange(start, stop, step)\n",
        "\n",
        "result = generate_range_array(0,10,2)\n",
        "print(result)\n"
      ],
      "metadata": {
        "colab": {
          "base_uri": "https://localhost:8080/"
        },
        "id": "gGIJxSgoUXMp",
        "outputId": "c781b4f1-d1e4-43db-8126-10e0be50bf5f"
      },
      "execution_count": 13,
      "outputs": [
        {
          "output_type": "stream",
          "name": "stdout",
          "text": [
            "[0 2 4 6 8]\n"
          ]
        }
      ]
    },
    {
      "cell_type": "code",
      "source": [
        "# Q.14] Design a function 'generate_linear_space' that takes two floats 'start', 'stop' and an integer 'num' as arguments and generates a numpy array with num equally spaced values between 'start' and 'stop' (inclusive) ?\n",
        "\n",
        "def generate_linear_space(start, stop, num):\n",
        "\n",
        "  return np.linspace(start, stop, num)\n",
        "\n",
        "result = generate_linear_space(0,1,5)\n",
        "print(result)"
      ],
      "metadata": {
        "colab": {
          "base_uri": "https://localhost:8080/"
        },
        "id": "QSXPNYx_WIyI",
        "outputId": "586aaed1-277b-4eb8-bb2a-fca47a72f2c5"
      },
      "execution_count": 14,
      "outputs": [
        {
          "output_type": "stream",
          "name": "stdout",
          "text": [
            "[0.   0.25 0.5  0.75 1.  ]\n"
          ]
        }
      ]
    },
    {
      "cell_type": "code",
      "source": [
        "# Q.15] Create a function 'create_identity_matrix' that takes in integer 'n' as input and generates a square identity matrix of size 'n * n' using numpy.eye ?\n",
        "\n",
        "def create_identity_matrix(n):\n",
        "\n",
        "  return np.eye(n)\n",
        "\n",
        "result = create_identity_matrix(3)\n",
        "print(result)\n"
      ],
      "metadata": {
        "colab": {
          "base_uri": "https://localhost:8080/"
        },
        "id": "iHF6LbClXXtN",
        "outputId": "c99e41ab-cb3a-4f16-c5e4-74615c7bf18b"
      },
      "execution_count": 15,
      "outputs": [
        {
          "output_type": "stream",
          "name": "stdout",
          "text": [
            "[[1. 0. 0.]\n",
            " [0. 1. 0.]\n",
            " [0. 0. 1.]]\n"
          ]
        }
      ]
    },
    {
      "cell_type": "code",
      "source": [
        "# Q.16] Write a function that takes a python list and converts it into a numpy array ?\n",
        "\n",
        "l = [1,2,3,4,5]\n",
        "np.array(l)\n"
      ],
      "metadata": {
        "colab": {
          "base_uri": "https://localhost:8080/"
        },
        "id": "3sjEKBo6YeQh",
        "outputId": "a082ce1a-5d28-4828-9dd2-b12639c210ab"
      },
      "execution_count": 16,
      "outputs": [
        {
          "output_type": "execute_result",
          "data": {
            "text/plain": [
              "array([1, 2, 3, 4, 5])"
            ]
          },
          "metadata": {},
          "execution_count": 16
        }
      ]
    },
    {
      "cell_type": "code",
      "source": [
        "# Q.17] Create a numpy array and demonstrate the use of numpy.view to create a new array object with the same data ?\n",
        "\n",
        "arr = np.array([10,20,30,40])\n",
        "view_arr = arr.view()\n",
        "\n",
        "print(\"original array :\", arr)\n",
        "print(\"View array :\", view_arr)"
      ],
      "metadata": {
        "colab": {
          "base_uri": "https://localhost:8080/"
        },
        "id": "gjZJ4PqzZBWw",
        "outputId": "b2165419-5152-41f7-9bfb-595543347c1b"
      },
      "execution_count": 17,
      "outputs": [
        {
          "output_type": "stream",
          "name": "stdout",
          "text": [
            "original array : [10 20 30 40]\n",
            "View array : [10 20 30 40]\n"
          ]
        }
      ]
    },
    {
      "cell_type": "code",
      "source": [
        "# Q.18] Write a function that takes two numpy arrays and concatenate them along a specified axis ?\n",
        "\n",
        "def concatenate_arrays(arr1, arr2, axis):\n",
        "  concatenated_arr = np.concatenate((arr1, arr2), axis = axis)\n",
        "  return concatenated_arr\n",
        "\n",
        "arr1 = np.array([[1,2,3], [4,5,6]])\n",
        "arr2 = np.array([[7,8,9], [10,11,12]])\n",
        "result = concatenate_arrays(arr1, arr2, axis = 0)\n",
        "print(result)\n",
        "\n"
      ],
      "metadata": {
        "colab": {
          "base_uri": "https://localhost:8080/"
        },
        "id": "XI3KxXE0a5_R",
        "outputId": "5cf27082-198a-4b08-cfc8-b2fbcc87fc4b"
      },
      "execution_count": 18,
      "outputs": [
        {
          "output_type": "stream",
          "name": "stdout",
          "text": [
            "[[ 1  2  3]\n",
            " [ 4  5  6]\n",
            " [ 7  8  9]\n",
            " [10 11 12]]\n"
          ]
        }
      ]
    },
    {
      "cell_type": "code",
      "source": [
        "# Q.19] Create a two numpy arrays with different shapes and concatenate them horizontally using numpy concatenate ?\n",
        "\n",
        "arr1 = np.array ([1,2,3])\n",
        "arr2 = np.array([4,5,6])\n",
        "\n",
        "arr3 = np.concatenate((arr1, arr2))\n",
        "print(arr3)"
      ],
      "metadata": {
        "colab": {
          "base_uri": "https://localhost:8080/"
        },
        "id": "gFESJICeee_g",
        "outputId": "3d09a3c0-bfba-43f0-eeb8-b17205bd8866"
      },
      "execution_count": 19,
      "outputs": [
        {
          "output_type": "stream",
          "name": "stdout",
          "text": [
            "[1 2 3 4 5 6]\n"
          ]
        }
      ]
    },
    {
      "cell_type": "code",
      "source": [
        "# Q.20] Write a function that vertically stacks multiple numpy arrays given as a list ?\n",
        "\n",
        "def vertical_stack(arr):\n",
        "\n",
        "  return np.vstack(arr)\n",
        "\n",
        "arr1 = np.array([1,2,3])\n",
        "arr2 = np.array([4,5,6])\n",
        "arr3 = np.array([7,8,9])\n",
        "result = vertical_stack((arr1, arr2, arr3))\n",
        "print(result)"
      ],
      "metadata": {
        "colab": {
          "base_uri": "https://localhost:8080/"
        },
        "id": "dxXgPWrWfGSo",
        "outputId": "747292be-ec51-4ca4-c271-39f36f6fa272"
      },
      "execution_count": 20,
      "outputs": [
        {
          "output_type": "stream",
          "name": "stdout",
          "text": [
            "[[1 2 3]\n",
            " [4 5 6]\n",
            " [7 8 9]]\n"
          ]
        }
      ]
    },
    {
      "cell_type": "code",
      "source": [
        "# Q.21] Write a python function using numpy to create an array of integers within a specified range(inclusive) with a given step size ?\n",
        "\n",
        "def create_range_array(start, stop, step):\n",
        "  return np.arange(start, stop, step)\n",
        "\n",
        "arr = create_range_array(0,10,3)\n",
        "print(arr)"
      ],
      "metadata": {
        "colab": {
          "base_uri": "https://localhost:8080/"
        },
        "id": "HIks_guYgVU5",
        "outputId": "0f211fba-2140-4b47-d5bd-1aa7038a0e27"
      },
      "execution_count": 21,
      "outputs": [
        {
          "output_type": "stream",
          "name": "stdout",
          "text": [
            "[0 3 6 9]\n"
          ]
        }
      ]
    },
    {
      "cell_type": "code",
      "source": [
        "# Q.22] Write a python function using numpy to generate an array of 10 equally spaced values between 0 and 1(inclusive) ?\n",
        "\n",
        "def generate_array():\n",
        "  return np.linspace(0,1,10)\n",
        "\n",
        "result = generate_array()\n",
        "print(result)"
      ],
      "metadata": {
        "colab": {
          "base_uri": "https://localhost:8080/"
        },
        "id": "p1JXGhJMhPVK",
        "outputId": "cde41408-9bb8-4db1-b22d-f309dbe1ae17"
      },
      "execution_count": 22,
      "outputs": [
        {
          "output_type": "stream",
          "name": "stdout",
          "text": [
            "[0.         0.11111111 0.22222222 0.33333333 0.44444444 0.55555556\n",
            " 0.66666667 0.77777778 0.88888889 1.        ]\n"
          ]
        }
      ]
    },
    {
      "cell_type": "code",
      "source": [
        "# Q.22] Write a python function using numpy to generate an array of 10 equally spaced values between 0 and 1(inclusive) ?\n",
        "\n",
        "def generate_array():\n",
        "  return np.linspace(0,1,10)\n",
        "\n",
        "result = generate_array()\n",
        "print(result)"
      ],
      "metadata": {
        "colab": {
          "base_uri": "https://localhost:8080/"
        },
        "id": "au9kpxp7iDKe",
        "outputId": "b101ab6e-16bd-469e-9ab7-059b260c25bb"
      },
      "execution_count": 23,
      "outputs": [
        {
          "output_type": "stream",
          "name": "stdout",
          "text": [
            "[0.         0.11111111 0.22222222 0.33333333 0.44444444 0.55555556\n",
            " 0.66666667 0.77777778 0.88888889 1.        ]\n"
          ]
        }
      ]
    },
    {
      "cell_type": "code",
      "source": [
        "# Q.24] Create a Pandas DataFrame using numpy array that contains 5 rows and 3 columns, where the values are random integers between 1 and 100 ?\n",
        "\n",
        "import pandas as pd\n",
        "import numpy as np\n",
        "\n",
        "data = np.random.randint(1,100, (5,3))\n",
        "df = pd.DataFrame(data, columns = ['a','b', 'c'])\n",
        "print(df)"
      ],
      "metadata": {
        "colab": {
          "base_uri": "https://localhost:8080/"
        },
        "id": "LeGYrgRUisIc",
        "outputId": "9c64d485-4133-411d-f3ab-857b781a0777"
      },
      "execution_count": 24,
      "outputs": [
        {
          "output_type": "stream",
          "name": "stdout",
          "text": [
            "    a   b   c\n",
            "0  37  90  20\n",
            "1  38  62   7\n",
            "2  23  84  29\n",
            "3  22  45  88\n",
            "4   7  38  61\n"
          ]
        }
      ]
    },
    {
      "cell_type": "code",
      "source": [
        "# Q.25] Write a function that takes a pandas DataFrame and replaces all negative values in a specific column with zeros. use numpy operations within the Pandas DataFrame ?\n",
        "\n",
        "def replace_negative_values(df, column_name):\n",
        "  df[column_name] = df[column_name].apply(lambda x: 0 if x < 0 else x)\n",
        "\n",
        "replace_negative_values(df, 'a')\n",
        "print(df)"
      ],
      "metadata": {
        "colab": {
          "base_uri": "https://localhost:8080/"
        },
        "id": "PQaGM3avjj16",
        "outputId": "657dc04c-424b-4826-efc4-9e67503032c0"
      },
      "execution_count": 25,
      "outputs": [
        {
          "output_type": "stream",
          "name": "stdout",
          "text": [
            "    a   b   c\n",
            "0  37  90  20\n",
            "1  38  62   7\n",
            "2  23  84  29\n",
            "3  22  45  88\n",
            "4   7  38  61\n"
          ]
        }
      ]
    },
    {
      "cell_type": "code",
      "source": [
        "# Q.26] Acess the 3rd element from the given numpy array ''' arr = np.array([10,20,30,40,50])''' ?\n",
        "\n",
        "arr = np.array([10,20,30,40,50])\n",
        "print(arr[2])\n",
        "\n",
        "\n"
      ],
      "metadata": {
        "colab": {
          "base_uri": "https://localhost:8080/"
        },
        "id": "-U8-6D2ElexR",
        "outputId": "bc180f48-3c17-40aa-e0d5-b1e050d320e0"
      },
      "execution_count": 26,
      "outputs": [
        {
          "output_type": "stream",
          "name": "stdout",
          "text": [
            "30\n"
          ]
        }
      ]
    },
    {
      "cell_type": "code",
      "source": [
        "# Q.27] Retrieve the element at index (1,2) from the 2D numpy array ?\n",
        "''' arr = np.array([[1,2,3],\n",
        "                    [4,5,6],\n",
        "                    [7,8,9]])'''\n",
        "\n",
        "arr = np.array([[1,2,3],\n",
        "                [4,5,6],\n",
        "                [7,8,9]])\n",
        "\n",
        "element = arr[1,2]\n",
        "print(element)"
      ],
      "metadata": {
        "colab": {
          "base_uri": "https://localhost:8080/"
        },
        "id": "VqnAlDEPmBWV",
        "outputId": "24d3514b-1b34-4bb2-9412-a0e3281fc1e2"
      },
      "execution_count": 27,
      "outputs": [
        {
          "output_type": "stream",
          "name": "stdout",
          "text": [
            "6\n"
          ]
        }
      ]
    },
    {
      "cell_type": "code",
      "source": [
        "# Q.28] Using boolean indexing, extract elements greater than 5 from the given numpy array?\n",
        "''' arr = np.array([3,8,2,10,5,7])'''\n",
        "\n",
        "arr = np.array([3,8,2,10,5,7])\n",
        "result = arr[arr > 5]\n",
        "print(result)"
      ],
      "metadata": {
        "colab": {
          "base_uri": "https://localhost:8080/"
        },
        "id": "pBjrUUVPm9LS",
        "outputId": "126dc128-d9f0-4ed3-8dc0-c657a3771f5b"
      },
      "execution_count": 28,
      "outputs": [
        {
          "output_type": "stream",
          "name": "stdout",
          "text": [
            "[ 8 10  7]\n"
          ]
        }
      ]
    },
    {
      "cell_type": "code",
      "source": [
        "# Q.29] Perform basic slicing to extract element from index 2 to 5 inclusive from the given numpy array ?\n",
        "''' arr = np.array([1,2,3,4,5,6,7,8,9])'''\n",
        "\n",
        "arr = np.array([1,2,3,4,5,6,7,8,9])\n",
        "result = arr[2:6]\n",
        "print(result)"
      ],
      "metadata": {
        "colab": {
          "base_uri": "https://localhost:8080/"
        },
        "id": "loIwDUqNngVs",
        "outputId": "b34f46a9-30cc-4756-868e-28a5f7d431a3"
      },
      "execution_count": 29,
      "outputs": [
        {
          "output_type": "stream",
          "name": "stdout",
          "text": [
            "[3 4 5 6]\n"
          ]
        }
      ]
    },
    {
      "cell_type": "code",
      "source": [
        "# Q.30] Slice the 2D numpy array to extract the sub-array[[2,3], [5,6]] from the given array ?\n",
        "''' arr_2D = np.array([[1,2,3],\n",
        "                       [4,5,6],\n",
        "                       [7,8,9]])'''\n",
        "\n",
        "arr_2D = np.array([[1,2,3],\n",
        "                   [4,5,6],\n",
        "                   [7,8,9]])\n",
        "\n",
        "sub_array = arr_2D[0:2, 1:3]\n",
        "print(sub_array)\n"
      ],
      "metadata": {
        "colab": {
          "base_uri": "https://localhost:8080/"
        },
        "id": "Lugej8dHoOTt",
        "outputId": "00b611df-28cf-4615-88cd-fe5930397571"
      },
      "execution_count": 30,
      "outputs": [
        {
          "output_type": "stream",
          "name": "stdout",
          "text": [
            "[[2 3]\n",
            " [5 6]]\n"
          ]
        }
      ]
    },
    {
      "cell_type": "code",
      "source": [
        "# Q.32] Write a numpy function to extract elements in specific order from a given 2D array based on indices provided in another array ?\n",
        "\n",
        "def extract_elements(arr,indices):\n",
        "  return arr[indices]\n",
        "\n",
        "arr = np.array([[1,2,3], [4,5,6], [7,8,9]])\n",
        "indices = np.array([0,2])\n",
        "result = extract_elements(arr,indices)\n",
        "print(result)"
      ],
      "metadata": {
        "colab": {
          "base_uri": "https://localhost:8080/"
        },
        "id": "ef-bpMzLpfkA",
        "outputId": "ec8ef7ec-7ec2-465a-ba85-80d0bfe81144"
      },
      "execution_count": 31,
      "outputs": [
        {
          "output_type": "stream",
          "name": "stdout",
          "text": [
            "[[1 2 3]\n",
            " [7 8 9]]\n"
          ]
        }
      ]
    },
    {
      "cell_type": "code",
      "source": [
        "# Q.33] Develop a NumPy function that extracts specific elements from a 3D array using indices provided in three separate arrays for each dimension. ?\n",
        "\n",
        "def extract_elements(arr, indices_x, indices_y, indices_z):\n",
        "  return arr[indices_x, indices_y, indices_z]\n",
        "\n",
        "arr = np.array([[[1,2,3],\n",
        "                 [4,5,6],\n",
        "                 [7,8,9],\n",
        "                 [10,11,12]]])\n",
        "indices_x = np.array([0,0])\n",
        "indices_y = np.array([1,2])\n",
        "indices_z = np.array([1,2])\n",
        "result = extract_elements(arr, indices_x, indices_y, indices_z)\n",
        "print(result)"
      ],
      "metadata": {
        "colab": {
          "base_uri": "https://localhost:8080/"
        },
        "id": "PqpfEBXN8ob6",
        "outputId": "542aa1fc-bc5e-4d33-e150-a8e8c61060e7"
      },
      "execution_count": 32,
      "outputs": [
        {
          "output_type": "stream",
          "name": "stdout",
          "text": [
            "[5 9]\n"
          ]
        }
      ]
    },
    {
      "cell_type": "code",
      "source": [
        "# Q.34]  Write a NumPy function that returns elements from an array where both two conditions are satisfied using boolean indexing. ?\n",
        "\n",
        "def extract_elements(arr, condt1 , condt2):\n",
        "  return arr[(arr > condt1) & (arr < condt2)]\n",
        "\n",
        "arr = np.array([1,2,3,4,5,6,7,8,9])\n",
        "result = extract_elements(arr, 3,7)\n",
        "print(result)"
      ],
      "metadata": {
        "colab": {
          "base_uri": "https://localhost:8080/"
        },
        "id": "lknyiz4Y-4j7",
        "outputId": "53f5113e-b5b0-4a32-f454-ff900282158a"
      },
      "execution_count": 33,
      "outputs": [
        {
          "output_type": "stream",
          "name": "stdout",
          "text": [
            "[4 5 6]\n"
          ]
        }
      ]
    },
    {
      "cell_type": "code",
      "source": [
        "# Q.35] Create a NumPy function that extracts elements from a 2D array using row and column indices provided in separate arrays. ?\n",
        "\n",
        "def extract_elements(arr, row_indices, col_indices):\n",
        "  return arr[row_indices, col_indices]\n",
        "\n",
        "arr = np.array([[1,2,3], [4,5,6], [7,8,9]])\n",
        "row_indices = np.array([0,1])\n",
        "col_indices = np.array([1,2])\n",
        "result = extract_elements(arr, row_indices, col_indices)\n",
        "print(result)"
      ],
      "metadata": {
        "colab": {
          "base_uri": "https://localhost:8080/"
        },
        "id": "_T7FCS3j-4mT",
        "outputId": "0b4280fc-5510-4a8b-83dd-90ab59bd2dde"
      },
      "execution_count": 34,
      "outputs": [
        {
          "output_type": "stream",
          "name": "stdout",
          "text": [
            "[2 6]\n"
          ]
        }
      ]
    },
    {
      "cell_type": "code",
      "source": [
        "# Q.36] Given an array arr of shape (3, 3), add a scalar value of 5 to each element using NumPy broadcasting. ?\n",
        "\n",
        "def add_scalar(arr, scalar):\n",
        "  return arr + scalar\n",
        "\n",
        "arr = np.array([[10,20,30],\n",
        "                [40,50,60],\n",
        "                [70,80,90]])\n",
        "scalar = 5\n",
        "result = add_scalar(arr, scalar)\n",
        "print(result)"
      ],
      "metadata": {
        "colab": {
          "base_uri": "https://localhost:8080/"
        },
        "id": "8ceYxDXQ-4pv",
        "outputId": "54839c6c-0782-49c9-81e5-95985e59b2f3"
      },
      "execution_count": 35,
      "outputs": [
        {
          "output_type": "stream",
          "name": "stdout",
          "text": [
            "[[15 25 35]\n",
            " [45 55 65]\n",
            " [75 85 95]]\n"
          ]
        }
      ]
    },
    {
      "cell_type": "code",
      "source": [
        "# Q.37] Consider two arrays arr1 of shape (1, 3) and arr2 of shape (3, 4). Multiply each row of arr2 by the corresponding element in arr1 using NumPy broadcasting. ?\n",
        "\n",
        "def multiply_rows(arr1, arr2):\n",
        "  return arr2 * arr1.T\n",
        "\n",
        "arr1 = np.array([[2,3,4]])\n",
        "arr2 = np.array([[1,2,3,4],\n",
        "                 [5,6,7,8],\n",
        "                 [9,10,11,12]])\n",
        "result = arr2 * arr1.T\n",
        "print(result)"
      ],
      "metadata": {
        "colab": {
          "base_uri": "https://localhost:8080/"
        },
        "id": "W6g8H8uZAs2A",
        "outputId": "e995d70d-60e2-4b03-bbba-f1f61d998283"
      },
      "execution_count": 36,
      "outputs": [
        {
          "output_type": "stream",
          "name": "stdout",
          "text": [
            "[[ 2  4  6  8]\n",
            " [15 18 21 24]\n",
            " [36 40 44 48]]\n"
          ]
        }
      ]
    },
    {
      "cell_type": "code",
      "source": [
        "# Q.38] Given a 1D array arr1 of shape (1, 4) and a 2D array arr2 of shape (4, 3), add arr1 to each row of arr2 using NumPy broadcasting. ?\n",
        "\n",
        "def add_two_arrays(arr1, arr2, axis = 0):\n",
        "  return (arr2.T + arr1).T\n",
        "\n",
        "arr1 = np.array([[1,2,3,4]])\n",
        "arr2 = np.array([[1,2,3],\n",
        "                 [4,5,6],\n",
        "                 [7,8,9],\n",
        "                 [10,11,12]])\n",
        "result = add_two_arrays(arr1, arr2, axis = 0)\n",
        "print(result)"
      ],
      "metadata": {
        "colab": {
          "base_uri": "https://localhost:8080/"
        },
        "id": "Dgha4D9lCc5C",
        "outputId": "84924f91-987f-4990-d56c-ba6bb23d068b"
      },
      "execution_count": 37,
      "outputs": [
        {
          "output_type": "stream",
          "name": "stdout",
          "text": [
            "[[ 2  3  4]\n",
            " [ 6  7  8]\n",
            " [10 11 12]\n",
            " [14 15 16]]\n"
          ]
        }
      ]
    },
    {
      "cell_type": "code",
      "source": [
        "# Q.39] Consider two arrays arr1 of shape (3, 1) and arr2 of shape (1, 3). Add these arrays using NumPy broadcasting.\n",
        "\n",
        "def add_arrays(arr1, arr2):\n",
        "  return arr2 + arr1\n",
        "\n",
        "arr1 = np.array([[1],\n",
        "                 [2],\n",
        "                 [3]])\n",
        "arr2 = np.array([[10,20,30]])\n",
        "result = add_arrays(arr1, arr2)\n",
        "print(result)\n"
      ],
      "metadata": {
        "colab": {
          "base_uri": "https://localhost:8080/"
        },
        "id": "75wT74IREDiQ",
        "outputId": "bc05d477-f048-45b8-bbc2-235ac5c675f7"
      },
      "execution_count": 38,
      "outputs": [
        {
          "output_type": "stream",
          "name": "stdout",
          "text": [
            "[[11 21 31]\n",
            " [12 22 32]\n",
            " [13 23 33]]\n"
          ]
        }
      ]
    },
    {
      "cell_type": "code",
      "source": [
        "# Q.40] Given arrays arr1 of shape (2, 3) and arr2 of shape (2, 2), perform multiplication using NumPy broadcasting. Handle the shape incompatibility. ?\n",
        "\n",
        "def multiply_arrays(arr1, arr2):\n",
        "   arr1_reshaped = arr1.reshape(2, 1, 3)\n",
        "\n",
        "   arr2_reshaped = arr2.reshape(2, 2, 1)\n",
        "\n",
        "   return arr1_reshaped * arr2_reshaped\n",
        "\n",
        "arr1 = np.array([[1,2,3],\n",
        "                 [4,5,6]])\n",
        "arr2 = np.array([[10,20],\n",
        "                 [30,40]])\n",
        "result = multiply_arrays(arr1, arr2)\n",
        "print(result)"
      ],
      "metadata": {
        "colab": {
          "base_uri": "https://localhost:8080/"
        },
        "id": "l1ulJyD9FN67",
        "outputId": "683cf9bf-350c-4852-9954-ca5489dc6b35"
      },
      "execution_count": 39,
      "outputs": [
        {
          "output_type": "stream",
          "name": "stdout",
          "text": [
            "[[[ 10  20  30]\n",
            "  [ 20  40  60]]\n",
            "\n",
            " [[120 150 180]\n",
            "  [160 200 240]]]\n"
          ]
        }
      ]
    },
    {
      "cell_type": "code",
      "source": [
        "# Q.41] Calculate column-wise mean for the given array: arr = np.array([[1, 2, 3], [4, 5, 6]]) ?\n",
        "\n",
        "arr = np.array([[1, 2, 3], [4, 5, 6]])\n",
        "result = np.mean(arr)\n",
        "print(result)"
      ],
      "metadata": {
        "colab": {
          "base_uri": "https://localhost:8080/"
        },
        "id": "mzZ6XCc0Ij-S",
        "outputId": "276b0984-d6e2-4111-c9b1-94a5e0c3fa00"
      },
      "execution_count": 40,
      "outputs": [
        {
          "output_type": "stream",
          "name": "stdout",
          "text": [
            "3.5\n"
          ]
        }
      ]
    },
    {
      "cell_type": "code",
      "source": [
        "# Q.42] Find maximum value in each row of the given array: arr = np.array([[1, 2, 3], [4, 5, 6]]) ?\n",
        "\n",
        "arr = np.array([[1, 2, 3], [4, 5, 6]])\n",
        "result = np.max(arr, axis = 1)\n",
        "print(result)"
      ],
      "metadata": {
        "colab": {
          "base_uri": "https://localhost:8080/"
        },
        "id": "XeiA6IA5I66Y",
        "outputId": "c6076bee-8726-46ee-b05f-32e21075911c"
      },
      "execution_count": 41,
      "outputs": [
        {
          "output_type": "stream",
          "name": "stdout",
          "text": [
            "[3 6]\n"
          ]
        }
      ]
    },
    {
      "cell_type": "code",
      "source": [
        "# Q.43] For the given array, find indices of maximum value in each column. arr = np.array([[1, 2, 3], [4, 5, 6]]) ?\n",
        "\n",
        "arr = np.array([[1, 2, 3], [4, 5, 6]])\n",
        "result = np.argmax(arr)\n",
        "print(result)"
      ],
      "metadata": {
        "colab": {
          "base_uri": "https://localhost:8080/"
        },
        "id": "2qoIdP7tJUyf",
        "outputId": "a5d84fcc-edae-4c60-870f-6e8536f766b0"
      },
      "execution_count": 42,
      "outputs": [
        {
          "output_type": "stream",
          "name": "stdout",
          "text": [
            "5\n"
          ]
        }
      ]
    },
    {
      "cell_type": "code",
      "source": [
        "# Q.44] For the given array, apply custom function to calculate moving sum along rows. arr = np.array([[1, 2, 3], [4, 5, 6]]) ?\n",
        "\n",
        "arr = np.array([[1, 2, 3], [4, 5, 6]])\n",
        "result = np.cumsum(arr, axis = 1)\n",
        "print(result)"
      ],
      "metadata": {
        "colab": {
          "base_uri": "https://localhost:8080/"
        },
        "id": "24obDChRJosj",
        "outputId": "b03081dc-e31a-493c-a10f-8dfdb64850ba"
      },
      "execution_count": 43,
      "outputs": [
        {
          "output_type": "stream",
          "name": "stdout",
          "text": [
            "[[ 1  3  6]\n",
            " [ 4  9 15]]\n"
          ]
        }
      ]
    },
    {
      "cell_type": "code",
      "source": [
        "# Q.45] In the given array, check if all elements in each column are even. arr = np.array([[2, 4, 6], [3, 5, 7]]) ?\n",
        "\n",
        "arr = np.array([[2, 4, 6], [3, 5, 7]])\n",
        "result = (arr % 2 == 0)\n",
        "print(result)"
      ],
      "metadata": {
        "colab": {
          "base_uri": "https://localhost:8080/"
        },
        "id": "pSgGtGklJ59p",
        "outputId": "a06c7cbe-cf87-4dd4-966f-9781869f92c2"
      },
      "execution_count": 44,
      "outputs": [
        {
          "output_type": "stream",
          "name": "stdout",
          "text": [
            "[[ True  True  True]\n",
            " [False False False]]\n"
          ]
        }
      ]
    },
    {
      "cell_type": "code",
      "source": [
        "# Q.46] Given a NumPy array arr, reshape it into a matrix of dimensions `m` rows and `n` columns. Return the reshaped matrix. original_array = np.array([1, 2, 3, 4, 5, 6]) ?\n",
        "\n",
        "def reshape_array(arr, m, n):\n",
        "    return arr.reshape(m, n)\n",
        "\n",
        "original_array = np.array([1, 2, 3, 4, 5, 6])\n",
        "reshaped = reshape_array(original_array, 2, 3)\n",
        "print(reshaped)"
      ],
      "metadata": {
        "colab": {
          "base_uri": "https://localhost:8080/"
        },
        "id": "0APUluq9KOs1",
        "outputId": "fcedd0c0-14d4-4271-b503-9412fd488301"
      },
      "execution_count": 45,
      "outputs": [
        {
          "output_type": "stream",
          "name": "stdout",
          "text": [
            "[[1 2 3]\n",
            " [4 5 6]]\n"
          ]
        }
      ]
    },
    {
      "cell_type": "code",
      "source": [
        "# Q.47] Create a function that takes a matrix as input and returns the flattened array. input_matrix = np.array([[1, 2, 3], [4, 5, 6]]) ?\n",
        "\n",
        "def flatten_matrix(input_matrix):\n",
        "  return input_matrix.flatten()\n",
        "\n",
        "input_matrix = np.array([[1, 2, 3], [4, 5, 6]])\n",
        "result = flatten_matrix(input_matrix)\n",
        "print(result)"
      ],
      "metadata": {
        "colab": {
          "base_uri": "https://localhost:8080/"
        },
        "id": "Cf60pBMyLMnX",
        "outputId": "6e07e20f-3575-4bcf-dcaf-80159dfb5704"
      },
      "execution_count": 46,
      "outputs": [
        {
          "output_type": "stream",
          "name": "stdout",
          "text": [
            "[1 2 3 4 5 6]\n"
          ]
        }
      ]
    },
    {
      "cell_type": "code",
      "source": [
        "# Q.48] Write a function that concatenates two given arrays along a specified axis. array1 = np.array([[1, 2], [3, 4]]) array2 = np.array([[5, 6], [7, 8]]) ?\n",
        "\n",
        "def concatenate_arrays(array1, array2, axis):\n",
        "  return np.concatenate((array1, array2), axis = axis)\n",
        "\n",
        "array1 = np.array([[1,2], [3,4]])\n",
        "array2 = np.array([[5,6], [7,8]])\n",
        "result = concatenate_arrays(array1, array2, axis = 0)\n",
        "print(result)"
      ],
      "metadata": {
        "colab": {
          "base_uri": "https://localhost:8080/"
        },
        "id": "AtEToBMNL26f",
        "outputId": "1505bb16-ef3a-41b1-c309-2202f3756e0c"
      },
      "execution_count": 47,
      "outputs": [
        {
          "output_type": "stream",
          "name": "stdout",
          "text": [
            "[[1 2]\n",
            " [3 4]\n",
            " [5 6]\n",
            " [7 8]]\n"
          ]
        }
      ]
    },
    {
      "cell_type": "code",
      "source": [
        "# Q.49] Create a function that splits an array into multiple sub-arrays along a specified axis. original_array = np.array([[1, 2, 3], [4, 5, 6], [7, 8, 9]]) ?\n",
        "\n",
        "def split_array(original_array, indices_or_sections, axis = 0):\n",
        "  return np.split(original_array, indices_or_sections, axis = axis)\n",
        "\n",
        "original_array = np.array([[1, 2, 3],\n",
        "                           [4, 5, 6],\n",
        "                           [7, 8, 9]])\n",
        "\n",
        "result = split_array(original_array, 3, axis=0)\n",
        "for sub_array in result:\n",
        "  print(result)"
      ],
      "metadata": {
        "colab": {
          "base_uri": "https://localhost:8080/"
        },
        "id": "B2CvhIWYM4yG",
        "outputId": "fd689e5a-60ac-46dd-bb0e-2a96d94b6df2"
      },
      "execution_count": 48,
      "outputs": [
        {
          "output_type": "stream",
          "name": "stdout",
          "text": [
            "[array([[1, 2, 3]]), array([[4, 5, 6]]), array([[7, 8, 9]])]\n",
            "[array([[1, 2, 3]]), array([[4, 5, 6]]), array([[7, 8, 9]])]\n",
            "[array([[1, 2, 3]]), array([[4, 5, 6]]), array([[7, 8, 9]])]\n"
          ]
        }
      ]
    },
    {
      "cell_type": "code",
      "source": [
        "# Q.50] Write a function that inserts and then deletes elements from a given array at specified indices. original_array = np.array([1, 2, 3, 4, 5]), indices_to_insert = [2, 4], values_to_insert = [10, 11], indices_to_delete = [1, 3] ?\n",
        "\n",
        "def insert_and_delete(original_array, indices_to_insert, values_to_insert, indices_to_delete):\n",
        "  new_array = np.insert(original_array, indices_to_insert, values_to_insert)\n",
        "  final_array = np.delete(new_array, indices_to_delete)\n",
        "  return final_array\n",
        "\n",
        "original_array = np.array([1,2,3,4,5])\n",
        "indices_to_insert = [2,4]\n",
        "values_to_insert = [10,11]\n",
        "indices_to_delete = [1,3]\n",
        "result = insert_and_delete(original_array, indices_to_insert, values_to_insert, indices_to_delete)\n",
        "print(result)"
      ],
      "metadata": {
        "colab": {
          "base_uri": "https://localhost:8080/"
        },
        "id": "keYnn3qxPpJ0",
        "outputId": "2947230a-b075-470f-e466-c6495a3b90c4"
      },
      "execution_count": 49,
      "outputs": [
        {
          "output_type": "stream",
          "name": "stdout",
          "text": [
            "[ 1 10  4 11  5]\n"
          ]
        }
      ]
    },
    {
      "cell_type": "code",
      "source": [
        "# Q.51] Create a NumPy array `arr1` with random integers and another array `arr2` with integers from 1 to 10. Perform element-wise addition between `arr1` and `arr2`. ?\n",
        "\n",
        "arr1 = np.random.randint(1,100, (3,3))\n",
        "arr2 = np.arange(1, 10).reshape(3, 3)\n",
        "result = arr1 + arr2\n",
        "print(result)\n"
      ],
      "metadata": {
        "colab": {
          "base_uri": "https://localhost:8080/"
        },
        "id": "9yD4ved-XYGq",
        "outputId": "311bff1b-6a0e-49b8-fb8c-710b49403a20"
      },
      "execution_count": 50,
      "outputs": [
        {
          "output_type": "stream",
          "name": "stdout",
          "text": [
            "[[ 82  95  21]\n",
            " [102  52  86]\n",
            " [ 43  11  87]]\n"
          ]
        }
      ]
    },
    {
      "cell_type": "code",
      "source": [
        "# Q.52] Generate a NumPy array `arr1` with sequential integers from 10 to 1 and another array `arr2` with integers from 1 to 10. Subtract `arr2` from `arr1` element-wise. ?\n",
        "\n",
        "arr1 = np.arange(10,0,-1)\n",
        "arr2 = np.arange(1,11)\n",
        "result = arr1 - arr2\n",
        "print(result)"
      ],
      "metadata": {
        "colab": {
          "base_uri": "https://localhost:8080/"
        },
        "id": "Bc7qnWP9Ynnk",
        "outputId": "afee58d6-eb56-4fb2-fb6a-acbbf3f93ba4"
      },
      "execution_count": 51,
      "outputs": [
        {
          "output_type": "stream",
          "name": "stdout",
          "text": [
            "[ 9  7  5  3  1 -1 -3 -5 -7 -9]\n"
          ]
        }
      ]
    },
    {
      "cell_type": "code",
      "source": [
        "# Q.53] Create a NumPy array `arr1` with random integers and another array `arr2` with integers from 1 to 5. Perform element-wise multiplication between `arr1` and `arr2`. ?\n",
        "\n",
        "arr1 = np.random.randint(1,10, size = 5)\n",
        "arr2 = np.array([1,2,3,4,5])\n",
        "\n",
        "result = arr1 * arr2\n",
        "print(result)"
      ],
      "metadata": {
        "colab": {
          "base_uri": "https://localhost:8080/"
        },
        "id": "7IzzgPFMZhWf",
        "outputId": "7c3369a2-30e9-4cd8-b506-0d4e68b8b129"
      },
      "execution_count": 52,
      "outputs": [
        {
          "output_type": "stream",
          "name": "stdout",
          "text": [
            "[ 4 10 12 20 45]\n"
          ]
        }
      ]
    },
    {
      "cell_type": "code",
      "source": [
        "# Q.54] Generate a NumPy array `arr1` with even integers from 2 to 10 and another array `arr2` with integers from 1 to 5. Perform element-wise division of `arr1` by `arr2`. ?\n",
        "\n",
        "arr1 = np.array([2,4,6,8,10])\n",
        "arr2 = np.array([1,2,3,4,5])\n",
        "\n",
        "result = arr1 / arr2\n",
        "print(result)"
      ],
      "metadata": {
        "colab": {
          "base_uri": "https://localhost:8080/"
        },
        "id": "stpYkI0ie8Xo",
        "outputId": "0305b82b-88a5-4f90-92bb-2887182a5fdc"
      },
      "execution_count": 53,
      "outputs": [
        {
          "output_type": "stream",
          "name": "stdout",
          "text": [
            "[2. 2. 2. 2. 2.]\n"
          ]
        }
      ]
    },
    {
      "cell_type": "code",
      "source": [
        "# Q.55] Create a NumPy array `arr1` with integers from 1 to 5 and another array `arr2` with the same numbers reversed. Calculate the exponentiation of `arr1` raised to the power of `arr2` element-wise. ?\n",
        "\n",
        "arr1 = np.array([1,2,3,4,5])\n",
        "arr2 = np.array([5,4,3,2,1])\n",
        "\n",
        "result = arr1 ** arr2\n",
        "print(result)"
      ],
      "metadata": {
        "colab": {
          "base_uri": "https://localhost:8080/"
        },
        "id": "FoNovuvmfg1U",
        "outputId": "a05c2bbb-3a44-4d1e-9a0d-57270876ebd3"
      },
      "execution_count": 54,
      "outputs": [
        {
          "output_type": "stream",
          "name": "stdout",
          "text": [
            "[ 1 16 27 16  5]\n"
          ]
        }
      ]
    },
    {
      "cell_type": "code",
      "source": [
        "# Q.56] Write a function that counts the occurrences of a specific substring within a NumPy array of strings.arr = np.array(['hello', 'world', 'hello', 'numpy', 'hello']) ?\n",
        "\n",
        "def count_substring(arr, substring):\n",
        "    return np.char.count(arr, substring).sum()\n",
        "\n",
        "arr = np.array(['hello', 'world', 'hello', 'numpy', 'hello'])\n",
        "substring = 'hello'\n",
        "\n",
        "count = count_substring(arr, substring)\n",
        "print(f\"'{substring}' occurs {count} times.\")\n",
        "\n"
      ],
      "metadata": {
        "colab": {
          "base_uri": "https://localhost:8080/"
        },
        "id": "15M0OPMcgK1t",
        "outputId": "fdbbd8a2-436b-4e68-dd72-a997b10dec36"
      },
      "execution_count": 55,
      "outputs": [
        {
          "output_type": "stream",
          "name": "stdout",
          "text": [
            "'hello' occurs 3 times.\n"
          ]
        }
      ]
    },
    {
      "cell_type": "code",
      "source": [
        "# Q.57] Write a function that extracts uppercase characters from a NumPy array of strings. arr = np.array(['Hello', 'World', 'OpenAI', 'GPT']) ?\n",
        "\n",
        "\n",
        "def extract_uppercase(arr):\n",
        "    return np.array([char for word in arr for char in word if char.isupper()])\n",
        "\n",
        "arr = np.array(['Hello', 'World', 'OpenAI', 'GPT'])\n",
        "print(extract_uppercase(arr))"
      ],
      "metadata": {
        "colab": {
          "base_uri": "https://localhost:8080/"
        },
        "id": "wBk_F9WLgnX7",
        "outputId": "ee57a09a-7c86-4b9b-8cf7-c39183f28d69"
      },
      "execution_count": 56,
      "outputs": [
        {
          "output_type": "stream",
          "name": "stdout",
          "text": [
            "['H' 'W' 'O' 'A' 'I' 'G' 'P' 'T']\n"
          ]
        }
      ]
    },
    {
      "cell_type": "code",
      "source": [
        "# Q.58] Write a function that replaces occurrences of a substring in a NumPy array of strings with a new string. arr = np.array(['apple', 'banana', 'grape', 'pineapple']) ?\n",
        "\n",
        "def replace_substring(arr, old_sub, new_sub):\n",
        "  return np.char.replace(arr, old_sub, new_sub)\n",
        "\n",
        "arr = np.array(['apple', 'banana', 'grape', 'pineapple'])\n",
        "result = replace_substring(arr, 'apple', 'orange')\n",
        "print(result)"
      ],
      "metadata": {
        "colab": {
          "base_uri": "https://localhost:8080/"
        },
        "id": "JJXNhz_zicE1",
        "outputId": "88c38253-0f70-4083-b670-2ca8f4748d34"
      },
      "execution_count": 57,
      "outputs": [
        {
          "output_type": "stream",
          "name": "stdout",
          "text": [
            "['orange' 'banana' 'grape' 'pineorange']\n"
          ]
        }
      ]
    },
    {
      "cell_type": "code",
      "source": [
        "# Q.59]  Write a function that concatenates strings in a NumPy array element-wise.arr1 = np.array(['Hello', 'World']), arr2 = np.array(['Open', 'AI']) ?\n",
        "\n",
        "def concatenate_strings(arr1, arr2):\n",
        "  return arr1 + arr2\n",
        "\n",
        "arr1 = np.array(['Hello', 'World'])\n",
        "arr2 = np.array(['Open', 'AI'])\n",
        "result = concatenate_strings(arr1, arr2)\n",
        "print(result)"
      ],
      "metadata": {
        "colab": {
          "base_uri": "https://localhost:8080/"
        },
        "id": "zOVvdUDpi8_P",
        "outputId": "362b6072-994b-4873-b236-2ee3ccbeaa5e"
      },
      "execution_count": 58,
      "outputs": [
        {
          "output_type": "stream",
          "name": "stdout",
          "text": [
            "['HelloOpen' 'WorldAI']\n"
          ]
        }
      ]
    },
    {
      "cell_type": "code",
      "source": [
        "# Q.60] Write a function that finds the length of the longest string in a NumPy array. arr = np.array(['apple', 'banana', 'grape', 'pineapple']) ?\n",
        "\n",
        "def find_longest_string(arr):\n",
        "  return max(arr, key = len)\n",
        "\n",
        "arr = np.array(['apple', 'banana', 'grape', 'pineapple'])\n",
        "result = find_longest_string(arr)\n",
        "print(result)"
      ],
      "metadata": {
        "colab": {
          "base_uri": "https://localhost:8080/"
        },
        "id": "Hv-gL9EIjxT8",
        "outputId": "0cd03bd2-e4d4-49b7-8613-bace99f9b77b"
      },
      "execution_count": 59,
      "outputs": [
        {
          "output_type": "stream",
          "name": "stdout",
          "text": [
            "pineapple\n"
          ]
        }
      ]
    },
    {
      "cell_type": "code",
      "source": [
        "# Q.61] Create a dataset of 100 random integers between 1 and 1000. Compute the mean, median, variance, and standard deviation of the dataset using NumPy's functions ?\n",
        "\n",
        "data = np.random.randint(1,1001, size = 1000)\n",
        "\n",
        "mean = np.mean(data)\n",
        "median = np.median(data)\n",
        "variance = np.var(data)\n",
        "std_deviation = np.std(data)\n",
        "\n",
        "print(mean)\n",
        "print(median)\n",
        "print(variance)\n",
        "print(std_deviation)"
      ],
      "metadata": {
        "colab": {
          "base_uri": "https://localhost:8080/"
        },
        "id": "5ov1tTHZBONa",
        "outputId": "b90ab7b8-07cb-4e6c-c40e-89555ddb06e4"
      },
      "execution_count": 62,
      "outputs": [
        {
          "output_type": "stream",
          "name": "stdout",
          "text": [
            "489.192\n",
            "477.5\n",
            "80332.899136\n",
            "283.4305896264551\n"
          ]
        }
      ]
    },
    {
      "cell_type": "code",
      "source": [
        "# Q.62] Generate an array of 50 random numbers between 1 and 100. Find the 25th and 75th percentiles of the dataset. ?\n",
        "\n",
        "data = np.random.randint(1,101, 50)\n",
        "percentile_25 = np.percentile(data, 25)\n",
        "percentile_75 = np.percentile(data, 75)\n",
        "\n",
        "print(percentile_25)\n",
        "print(percentile_75)"
      ],
      "metadata": {
        "colab": {
          "base_uri": "https://localhost:8080/"
        },
        "id": "lP-c3fjaCaNi",
        "outputId": "c3439b84-b36f-427e-c0b8-c3620b226a85"
      },
      "execution_count": 65,
      "outputs": [
        {
          "output_type": "stream",
          "name": "stdout",
          "text": [
            "30.5\n",
            "71.0\n"
          ]
        }
      ]
    },
    {
      "cell_type": "code",
      "source": [
        "# Q.63] Create two arrays representing two sets of variables. Compute the correlation coefficient between these arrays using NumPy's `corrcoef` function. ?\n",
        "\n",
        "arr1 = np.array([1,2,3,4,5])\n",
        "arr2 = np.array([6,7,8,9,10])\n",
        "\n",
        "correlation_coefficient = np.corrcoef(arr1, arr2)\n",
        "print(correlation_coefficient)"
      ],
      "metadata": {
        "colab": {
          "base_uri": "https://localhost:8080/"
        },
        "id": "LjIDVs_ICaRU",
        "outputId": "ddbaf413-48ca-4576-916c-e647db036038"
      },
      "execution_count": 66,
      "outputs": [
        {
          "output_type": "stream",
          "name": "stdout",
          "text": [
            "[[1. 1.]\n",
            " [1. 1.]]\n"
          ]
        }
      ]
    },
    {
      "cell_type": "code",
      "source": [
        "# Q.64] Create two matrices and perform matrix multiplication using NumPy's `dot` function. ?\n",
        "\n",
        "matrix1 = np.array([[1,2], [3,4]])\n",
        "matrix2 = np.array([[5,6],[7,8]])\n",
        "\n",
        "result = np.dot(matrix1, matrix2)\n",
        "print(result)"
      ],
      "metadata": {
        "colab": {
          "base_uri": "https://localhost:8080/"
        },
        "id": "6Byd2UBGCaU0",
        "outputId": "fa8c45c4-b151-4743-8888-d1341c6d7347"
      },
      "execution_count": 67,
      "outputs": [
        {
          "output_type": "stream",
          "name": "stdout",
          "text": [
            "[[19 22]\n",
            " [43 50]]\n"
          ]
        }
      ]
    },
    {
      "cell_type": "code",
      "source": [
        "# Q.65] Create an array of 50 integers between 10 and 1000. Calculate the 10th, 50th (median), and 90th percentiles along with the first and third quartiles. ?\n",
        "\n",
        "data = np.random.randint(10, 1001, size=50)\n",
        "\n",
        "percentile_10 = np.percentile(data, 10)\n",
        "median = np.median(data)\n",
        "percentile_90 = np.percentile(data, 90)\n",
        "\n",
        "quartile_1 = np.percentile(data, 25)\n",
        "quartile_3 = np.percentile(data, 75)\n",
        "\n",
        "print(percentile_10)\n",
        "print(median)\n",
        "print(percentile_90)\n",
        "print(quartile_1)\n",
        "print(quartile_3)\n"
      ],
      "metadata": {
        "colab": {
          "base_uri": "https://localhost:8080/"
        },
        "id": "zgAmlVdVEMmk",
        "outputId": "dc7af15d-9763-441f-c313-34c3dd9e18ca"
      },
      "execution_count": 70,
      "outputs": [
        {
          "output_type": "stream",
          "name": "stdout",
          "text": [
            "95.50000000000001\n",
            "482.0\n",
            "892.5\n",
            "265.5\n",
            "798.5\n"
          ]
        }
      ]
    },
    {
      "cell_type": "code",
      "source": [
        "# Q.66]  Create a NumPy array of integers and find the index of a specific element. ?\n",
        "\n",
        "\n",
        "arr = np.array([10, 20, 30, 40, 50])\n",
        "index = list(arr).index(30)\n",
        "\n",
        "print(index)"
      ],
      "metadata": {
        "colab": {
          "base_uri": "https://localhost:8080/"
        },
        "id": "anAV_4PCFX1j",
        "outputId": "dcd6c0bd-7ef5-4a69-ef5b-d2c1b7ad84e0"
      },
      "execution_count": 72,
      "outputs": [
        {
          "output_type": "stream",
          "name": "stdout",
          "text": [
            "2\n"
          ]
        }
      ]
    },
    {
      "cell_type": "code",
      "source": [
        "# Q.67] Generate a random NumPy array and sort it in ascending order. ?\n",
        "\n",
        "arr = np.random.randint(0,10, size = 10)\n",
        "sorted_asc = np.sort(arr)\n",
        "\n",
        "print(arr)\n",
        "print(sorted_desc)"
      ],
      "metadata": {
        "colab": {
          "base_uri": "https://localhost:8080/"
        },
        "id": "vonZMlJ8IiDG",
        "outputId": "392154d2-dfe5-4f43-f2cf-609429813b7e"
      },
      "execution_count": 78,
      "outputs": [
        {
          "output_type": "stream",
          "name": "stdout",
          "text": [
            "[8 5 4 1 3 2 1 8 5 2]\n",
            "[1 1 2 4 5 6 6 7 8 9]\n"
          ]
        }
      ]
    },
    {
      "cell_type": "code",
      "source": [
        "# Q.68] Filter elements >20  in the given NumPy array. arr = np.array([12, 25, 6, 42, 8, 30]) ?\n",
        "\n",
        "arr = np.array([12,25,6,42,8,30])\n",
        "filter = arr > 20\n",
        "result = arr[filter]\n",
        "print(result)"
      ],
      "metadata": {
        "colab": {
          "base_uri": "https://localhost:8080/"
        },
        "id": "lffStaE1JoF5",
        "outputId": "4fe79ad8-5115-4b35-fa7d-69b731b397f0"
      },
      "execution_count": 80,
      "outputs": [
        {
          "output_type": "stream",
          "name": "stdout",
          "text": [
            "[25 42 30]\n"
          ]
        }
      ]
    },
    {
      "cell_type": "code",
      "source": [
        "# Q.69] Filter elements which are divisible by 3 from a given NumPy array. arr = np.array([1, 5, 8, 12, 15]) ?\n",
        "\n",
        "arr = np.array([1,5,8,12,15])\n",
        "filter = arr % 3 == 0\n",
        "result = arr[filter]\n",
        "print(filter)"
      ],
      "metadata": {
        "colab": {
          "base_uri": "https://localhost:8080/"
        },
        "id": "JVN0qZgGKuOi",
        "outputId": "4d292bd0-96ef-4538-a215-97a5f023bb49"
      },
      "execution_count": 81,
      "outputs": [
        {
          "output_type": "stream",
          "name": "stdout",
          "text": [
            "[False False False  True  True]\n"
          ]
        }
      ]
    },
    {
      "cell_type": "code",
      "source": [
        "# Q.70] Filter elements which are ≥ 20 and ≤ 40 from a given NumPy array. arr = np.array([10, 20, 30, 40, 50]) ?\n",
        "\n",
        "arr = np.array([10,20,30,40,50])\n",
        "filter = (arr >= 20) & (arr <=40)\n",
        "result = arr[filter]\n",
        "print(result)"
      ],
      "metadata": {
        "colab": {
          "base_uri": "https://localhost:8080/"
        },
        "id": "JpOR3LCXLIG5",
        "outputId": "239954ea-6849-485a-d4bf-f26432264f6a"
      },
      "execution_count": 83,
      "outputs": [
        {
          "output_type": "stream",
          "name": "stdout",
          "text": [
            "[20 30 40]\n"
          ]
        }
      ]
    },
    {
      "cell_type": "code",
      "source": [
        "# Q.71]  For the given NumPy array, check its byte order using the `dtype` attribute byteorder. arr = np.array([1, 2, 3])\n",
        "\n",
        "\n",
        "arr = np.array([1, 2, 3])\n",
        "print(arr.dtype.byteorder)"
      ],
      "metadata": {
        "colab": {
          "base_uri": "https://localhost:8080/"
        },
        "id": "xw3_atVyLmvB",
        "outputId": "22622fc1-37e9-4ba7-df30-fb2f5dacedb6"
      },
      "execution_count": 84,
      "outputs": [
        {
          "output_type": "stream",
          "name": "stdout",
          "text": [
            "=\n"
          ]
        }
      ]
    },
    {
      "cell_type": "code",
      "source": [
        "# Q.72] For the given NumPy array, perform byte swapping in place using `byteswap()`. arr = np.array([1, 2, 3], dtype=np.int32) ?\n",
        "\n",
        "arr = np.array([1, 2, 3], dtype=np.int32)\n",
        "arr.byteswap(inplace = True)\n",
        "print(arr)"
      ],
      "metadata": {
        "colab": {
          "base_uri": "https://localhost:8080/"
        },
        "id": "ShWvbevNMNlw",
        "outputId": "8baf74cd-e5e6-48ab-b65e-9fbc4022e543"
      },
      "execution_count": 86,
      "outputs": [
        {
          "output_type": "stream",
          "name": "stdout",
          "text": [
            "[16777216 33554432 50331648]\n"
          ]
        }
      ]
    },
    {
      "cell_type": "code",
      "source": [
        "# Q.73] For the given NumPy array, swap its byte order without modifying the original array using `newbyteorder()`. arr = np.array([1, 2, 3], dtype=np.int32) ?\n",
        "\n",
        "arr = np.array([1, 2, 3], dtype=np.int32)\n",
        "swapped = arr.view(arr.dtype.newbyteorder())\n",
        "print(arr)\n",
        "print(swapped)"
      ],
      "metadata": {
        "colab": {
          "base_uri": "https://localhost:8080/"
        },
        "id": "Vd66tCivMrSz",
        "outputId": "fca64a4b-e495-49a6-c106-92043f1da062"
      },
      "execution_count": 92,
      "outputs": [
        {
          "output_type": "stream",
          "name": "stdout",
          "text": [
            "[1 2 3]\n",
            "[16777216 33554432 50331648]\n"
          ]
        }
      ]
    },
    {
      "cell_type": "code",
      "source": [
        "# Q.74] For the given NumPy array and swap its byte order conditionally based on system endianness using `newbyteorder()`. arr = np.array([1, 2, 3], dtype=np.int32) ?\n",
        "\n",
        "import sys\n",
        "arr = np.array([1,2,3], dtype = np.int32)\n",
        "if sys.byteorder == 'little':\n",
        "  swapped = arr.view(arr.dtype.newbyteorder('big'))\n",
        "else:\n",
        "  swapped = arr.view(arr.dtype.newbyteorder('little'))\n",
        "print(arr)\n",
        "print(swapped)"
      ],
      "metadata": {
        "colab": {
          "base_uri": "https://localhost:8080/"
        },
        "id": "2vVCvJh8NmTm",
        "outputId": "cfcb7515-9ab5-4f7a-e9cf-12d95b2642e7"
      },
      "execution_count": 93,
      "outputs": [
        {
          "output_type": "stream",
          "name": "stdout",
          "text": [
            "[1 2 3]\n",
            "[16777216 33554432 50331648]\n"
          ]
        }
      ]
    },
    {
      "cell_type": "code",
      "source": [
        "# Q.75] For the given NumPy array, check if byte swapping is necessary for the current system using `dtype`attribute `byteorder`. arr = np.array([1, 2, 3], dtype=np.int32) ?\n",
        "\n",
        "arr = np.array([1,2,3], dtype = np.int32)\n",
        "print(arr.dtype.byteorder)\n"
      ],
      "metadata": {
        "colab": {
          "base_uri": "https://localhost:8080/"
        },
        "id": "sTx1DLOXWcm9",
        "outputId": "eb9303ac-2275-416c-b83a-64ed7b11d3b6"
      },
      "execution_count": 94,
      "outputs": [
        {
          "output_type": "stream",
          "name": "stdout",
          "text": [
            "=\n"
          ]
        }
      ]
    },
    {
      "cell_type": "code",
      "metadata": {
        "colab": {
          "base_uri": "https://localhost:8080/"
        },
        "id": "f3851d25",
        "outputId": "197f087c-4c4a-4037-a5da-3f01a959f1c7"
      },
      "source": [
        "# Q.76]  Create a NumPy array `arr1` with values from 1 to 10. Create a copy of `arr1` named `copy_arr` and modify an element in `copy_arr`. Check if modifying `copy_arr` affects `arr1`. ?\n",
        "\n",
        "import sys\n",
        "\n",
        "arr = np.array([1, 2, 3], dtype=np.int32)\n",
        "\n",
        "# Check the byte order of the array and system\n",
        "arr_byteorder = arr.dtype.byteorder\n",
        "system_byteorder = '<' if sys.byteorder == 'little' else '>'\n",
        "\n",
        "# Determine if swapping is necessary\n",
        "if arr_byteorder != '=' and arr_byteorder != system_byteorder:\n",
        "    print(\"Byte swapping is necessary.\")\n",
        "else:\n",
        "    print(\"Byte swapping is NOT necessary.\")\n",
        "\n",
        "print(\"Array byte order:\", arr_byteorder)\n",
        "print(\"System byte order:\", system_byteorder)"
      ],
      "execution_count": 102,
      "outputs": [
        {
          "output_type": "stream",
          "name": "stdout",
          "text": [
            "Byte swapping is NOT necessary.\n",
            "Array byte order: =\n",
            "System byte order: <\n"
          ]
        }
      ]
    },
    {
      "cell_type": "code",
      "source": [
        "# Q.77] Create a 2D NumPy array `matrix` of shape (3, 3) with random integers. Extract a slice `view_slice` from the matrix. Modify an element in `view_slice` and observe if it changes the original `matrix`. ?\n",
        "\n",
        "matrix = np.random.randint(0,10, size = (3,3))\n",
        "print(matrix)\n",
        "\n",
        "view_slice = matrix[1:3, 1:3]\n",
        "print(view_slice)\n",
        "\n",
        "view_slice[0,0] = 99\n",
        "print(view_slice)\n",
        "print(matrix)"
      ],
      "metadata": {
        "colab": {
          "base_uri": "https://localhost:8080/"
        },
        "id": "eJhtezRNYzKY",
        "outputId": "9c1042c8-17cc-4873-dd12-c748548ee676"
      },
      "execution_count": 103,
      "outputs": [
        {
          "output_type": "stream",
          "name": "stdout",
          "text": [
            "[[8 6 4]\n",
            " [2 6 1]\n",
            " [1 9 2]]\n",
            "[[6 1]\n",
            " [9 2]]\n",
            "[[99  1]\n",
            " [ 9  2]]\n",
            "[[ 8  6  4]\n",
            " [ 2 99  1]\n",
            " [ 1  9  2]]\n"
          ]
        }
      ]
    },
    {
      "cell_type": "code",
      "source": [
        "# Q.78]  Create a NumPy array `array_a` of shape (4, 3) with sequential integers from 1 to 12. Extract a slice `view_b` from `array_a` and broadcast the addition of 5 to view_b. Check if it alters the original `array_a`. ?\n",
        "\n",
        "array_a = np.arange(1,13).reshape(4,3)\n",
        "view_b = array_a[1:3, 1:3]\n",
        "view_b +=5\n",
        "print(array_a)\n",
        "print(view_b)"
      ],
      "metadata": {
        "colab": {
          "base_uri": "https://localhost:8080/"
        },
        "id": "zfQ0-UpMcMR1",
        "outputId": "eddfbfa9-206a-45e6-a2ab-35600ada6544"
      },
      "execution_count": 105,
      "outputs": [
        {
          "output_type": "stream",
          "name": "stdout",
          "text": [
            "[[ 1  2  3]\n",
            " [ 4 10 11]\n",
            " [ 7 13 14]\n",
            " [10 11 12]]\n",
            "[[10 11]\n",
            " [13 14]]\n"
          ]
        }
      ]
    },
    {
      "cell_type": "code",
      "source": [
        "# Q.79] Create a NumPy array `orig_array` of shape (2, 4) with values from 1 to 8. Create a reshaped view `reshaped_view` of shape (4, 2) from orig_array. Modify an element in `reshaped_view` and check if it reflects changes in the original `orig_array`. ?\n",
        "\n",
        "orig_array = np.arange(1,9).reshape(2,4)\n",
        "reshaped_view = orig_array.reshape(4,2)\n",
        "reshaped_view[0,0] = 99\n",
        "print(orig_array)\n",
        "print(reshaped_view)"
      ],
      "metadata": {
        "colab": {
          "base_uri": "https://localhost:8080/"
        },
        "id": "F0B4laTHc4kv",
        "outputId": "5fcc21db-2a3e-49ce-9eb8-9a53ad777883"
      },
      "execution_count": 107,
      "outputs": [
        {
          "output_type": "stream",
          "name": "stdout",
          "text": [
            "[[99  2  3  4]\n",
            " [ 5  6  7  8]]\n",
            "[[99  2]\n",
            " [ 3  4]\n",
            " [ 5  6]\n",
            " [ 7  8]]\n"
          ]
        }
      ]
    },
    {
      "cell_type": "code",
      "source": [
        "# Q.80] Create a NumPy array `data` of shape (3, 4) with random integers. Extract a copy `data_copy` of elements greater than 5. Modify an element in `data_copy` and verify if it affects the original `data`. ?\n",
        "\n",
        "data = np.random.randint(0,10, size = (3,4))\n",
        "data_copy = data[data > 5].copy()\n",
        "data_copy[0] = 99\n",
        "print(data)\n",
        "print(data_copy)"
      ],
      "metadata": {
        "colab": {
          "base_uri": "https://localhost:8080/"
        },
        "id": "yMQpaC6DeKlJ",
        "outputId": "4ba470e5-b820-4f1d-f3a5-baace87f86cd"
      },
      "execution_count": 109,
      "outputs": [
        {
          "output_type": "stream",
          "name": "stdout",
          "text": [
            "[[3 4 9 5]\n",
            " [2 3 0 9]\n",
            " [1 7 6 0]]\n",
            "[99  9  7  6]\n"
          ]
        }
      ]
    },
    {
      "cell_type": "code",
      "source": [
        "# Q.81] Create two matrices A and B of identical shape containing integers and perform addition and subtraction operations between them. ?\n",
        "\n",
        "A = np.array([[1,2], [3,4]])\n",
        "B = np.array([[5,6], [7,8]])\n",
        "\n",
        "addition = A + B\n",
        "substraction = A - B\n",
        "\n",
        "print(addition)\n",
        "print(substraction)"
      ],
      "metadata": {
        "colab": {
          "base_uri": "https://localhost:8080/"
        },
        "id": "lXLyulDsfTuU",
        "outputId": "0003b52f-60e4-4ed5-ef8d-1db0b93f78eb"
      },
      "execution_count": 110,
      "outputs": [
        {
          "output_type": "stream",
          "name": "stdout",
          "text": [
            "[[ 6  8]\n",
            " [10 12]]\n",
            "[[-4 -4]\n",
            " [-4 -4]]\n"
          ]
        }
      ]
    },
    {
      "cell_type": "code",
      "source": [
        "# Q.82] Generate two matrices `C` (3x2) and `D` (2x4) and perform matrix multiplication. ?\n",
        "\n",
        "C = np.array([[1,2], [3,4], [5,6]])\n",
        "D = np.array([[7,8,9,10], [11,12,13,14]])\n",
        "\n",
        "result = np.dot(C,D)\n",
        "print(result)"
      ],
      "metadata": {
        "colab": {
          "base_uri": "https://localhost:8080/"
        },
        "id": "C1mOzBSwfzQM",
        "outputId": "c625e4b4-2b2e-4de0-de55-a5957144b960"
      },
      "execution_count": 111,
      "outputs": [
        {
          "output_type": "stream",
          "name": "stdout",
          "text": [
            "[[ 29  32  35  38]\n",
            " [ 65  72  79  86]\n",
            " [101 112 123 134]]\n"
          ]
        }
      ]
    },
    {
      "cell_type": "code",
      "source": [
        "# Q.83] Create a matrix `E` and find its transpose. ?\n",
        "\n",
        "E = np.array([[1,2,3], [4,5,6]])\n",
        "result = E.T\n",
        "print(result)"
      ],
      "metadata": {
        "colab": {
          "base_uri": "https://localhost:8080/"
        },
        "id": "hHoibHeXgQ0D",
        "outputId": "3ef5604d-db4c-469d-a148-8f66237c9254"
      },
      "execution_count": 112,
      "outputs": [
        {
          "output_type": "stream",
          "name": "stdout",
          "text": [
            "[[1 4]\n",
            " [2 5]\n",
            " [3 6]]\n"
          ]
        }
      ]
    },
    {
      "cell_type": "code",
      "source": [
        "# Q.84] Generate a square matrix `F` and compute its determinant. ?\n",
        "\n",
        "F = np.array([[1,2], [3,4]])\n",
        "result = np.linalg.det(F)\n",
        "print(result)"
      ],
      "metadata": {
        "colab": {
          "base_uri": "https://localhost:8080/"
        },
        "id": "pmEgkbpSgjq_",
        "outputId": "ff044e47-a91f-44b4-9822-47dd3ad261f5"
      },
      "execution_count": 113,
      "outputs": [
        {
          "output_type": "stream",
          "name": "stdout",
          "text": [
            "-2.0000000000000004\n"
          ]
        }
      ]
    },
    {
      "cell_type": "code",
      "source": [
        "# Q.85] Create a square matrix `G` and find its inverse ?\n",
        "\n",
        "G = np.array([[1,2], [3,4]])\n",
        "result = np.linalg.inv(G)\n",
        "print(result)\n"
      ],
      "metadata": {
        "colab": {
          "base_uri": "https://localhost:8080/"
        },
        "id": "a8B_WX22g4lV",
        "outputId": "1dfbda14-03bb-4be0-fbc0-ff40878e1197"
      },
      "execution_count": 114,
      "outputs": [
        {
          "output_type": "stream",
          "name": "stdout",
          "text": [
            "[[-2.   1. ]\n",
            " [ 1.5 -0.5]]\n"
          ]
        }
      ]
    }
  ]
}